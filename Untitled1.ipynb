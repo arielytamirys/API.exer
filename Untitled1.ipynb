{
  "nbformat": 4,
  "nbformat_minor": 0,
  "metadata": {
    "colab": {
      "provenance": [],
      "toc_visible": true,
      "mount_file_id": "14PS9vDLdA7rlimWczcLdCb5Q4Gn-_cla",
      "authorship_tag": "ABX9TyN5+Vy7wDjNdBW52K9TKpx5",
      "include_colab_link": true
    },
    "kernelspec": {
      "name": "python3",
      "display_name": "Python 3"
    },
    "language_info": {
      "name": "python"
    }
  },
  "cells": [
    {
      "cell_type": "markdown",
      "metadata": {
        "id": "view-in-github",
        "colab_type": "text"
      },
      "source": [
        "<a href=\"https://colab.research.google.com/github/arielytamirys/API.exer/blob/main/Untitled1.ipynb\" target=\"_parent\"><img src=\"https://colab.research.google.com/assets/colab-badge.svg\" alt=\"Open In Colab\"/></a>"
      ]
    },
    {
      "cell_type": "markdown",
      "source": [
        "# Machine Learning e Data Science com Phyton"
      ],
      "metadata": {
        "id": "oBrcES_iDAz_"
      }
    },
    {
      "cell_type": "markdown",
      "source": [
        "o aprendizado esta sendo por meio da plataforma IA expert, porem o codigo esta sendo desenvolvido por mim."
      ],
      "metadata": {
        "id": "mvyKl-jxdksn"
      }
    },
    {
      "cell_type": "markdown",
      "source": [
        "Importação das bibliotecas\n",
        "\n",
        "```\n",
        "# Isto está formatado como código\n",
        "```\n",
        "\n"
      ],
      "metadata": {
        "id": "sGG4PgB-J2p3"
      }
    },
    {
      "cell_type": "code",
      "source": [
        "! pip install plotly"
      ],
      "metadata": {
        "colab": {
          "base_uri": "https://localhost:8080/"
        },
        "id": "GR_bjmq0J2DC",
        "outputId": "9457f6d4-06e6-4925-e0e8-9d7f50059705"
      },
      "execution_count": 3,
      "outputs": [
        {
          "output_type": "stream",
          "name": "stdout",
          "text": [
            "Requirement already satisfied: plotly in /usr/local/lib/python3.10/dist-packages (5.15.0)\n",
            "Requirement already satisfied: tenacity>=6.2.0 in /usr/local/lib/python3.10/dist-packages (from plotly) (8.2.3)\n",
            "Requirement already satisfied: packaging in /usr/local/lib/python3.10/dist-packages (from plotly) (23.1)\n"
          ]
        }
      ]
    },
    {
      "cell_type": "code",
      "source": [
        "import pandas as pd # ajuda na visualização de dados cvs\n",
        "import numpy as np\n",
        "import seaborn as sns # ajuda a ver o grafico\n",
        "import matplotlib.pyplot as plt # ajuda  no grafico\n",
        "import plotly.express as px # foi criado um facilitador para biblioteca, so precisando digitar o px para chamala\n",
        "#todas acima tem seus abreviadores, np,px ...."
      ],
      "metadata": {
        "id": "Fw876YgPiIGn"
      },
      "execution_count": 4,
      "outputs": []
    },
    {
      "cell_type": "markdown",
      "source": [
        "Base de dados (Credito)\n",
        "---\n",
        "* Fonte (adaptado): https://www.kaggle.com/laotse/credit-risk-dataset\n",
        "\n",
        "\n",
        "\n"
      ],
      "metadata": {
        "id": "hal2lHwsFSAv"
      }
    },
    {
      "cell_type": "code",
      "source": [],
      "metadata": {
        "id": "FmYfFBu2GXV6"
      },
      "execution_count": null,
      "outputs": []
    }
  ]
}